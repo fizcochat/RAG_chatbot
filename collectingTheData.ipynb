{
  "nbformat": 4,
  "nbformat_minor": 0,
  "metadata": {
    "colab": {
      "provenance": []
    },
    "kernelspec": {
      "name": "python3",
      "display_name": "Python 3"
    },
    "language_info": {
      "name": "python"
    }
  },
  "cells": [
    {
      "cell_type": "code",
      "source": [
        "!pip install argilla -q"
      ],
      "metadata": {
        "colab": {
          "base_uri": "https://localhost:8080/"
        },
        "id": "dqHV_y4GJ36o",
        "outputId": "ad75bfe4-e6b0-4ee3-e044-7ac77f5d7ad2"
      },
      "execution_count": null,
      "outputs": [
        {
          "output_type": "stream",
          "name": "stdout",
          "text": [
            "  Installing build dependencies ... \u001b[?25l\u001b[?25hdone\n",
            "  Getting requirements to build wheel ... \u001b[?25l\u001b[?25hdone\n",
            "  Preparing metadata (pyproject.toml) ... \u001b[?25l\u001b[?25hdone\n",
            "\u001b[2K   \u001b[90m━━━━━━━━━━━━━━━━━━━━━━━━━━━━━━━━━━━━━━━━\u001b[0m \u001b[32m161.3/161.3 kB\u001b[0m \u001b[31m9.9 MB/s\u001b[0m eta \u001b[36m0:00:00\u001b[0m\n",
            "\u001b[2K   \u001b[90m━━━━━━━━━━━━━━━━━━━━━━━━━━━━━━━━━━━━━━━━\u001b[0m \u001b[32m484.9/484.9 kB\u001b[0m \u001b[31m28.5 MB/s\u001b[0m eta \u001b[36m0:00:00\u001b[0m\n",
            "\u001b[2K   \u001b[90m━━━━━━━━━━━━━━━━━━━━━━━━━━━━━━━━━━━━━━━━\u001b[0m \u001b[32m116.3/116.3 kB\u001b[0m \u001b[31m8.6 MB/s\u001b[0m eta \u001b[36m0:00:00\u001b[0m\n",
            "\u001b[2K   \u001b[90m━━━━━━━━━━━━━━━━━━━━━━━━━━━━━━━━━━━━━━━━\u001b[0m \u001b[32m143.5/143.5 kB\u001b[0m \u001b[31m10.8 MB/s\u001b[0m eta \u001b[36m0:00:00\u001b[0m\n",
            "\u001b[2K   \u001b[90m━━━━━━━━━━━━━━━━━━━━━━━━━━━━━━━━━━━━━━━━\u001b[0m \u001b[32m194.8/194.8 kB\u001b[0m \u001b[31m15.1 MB/s\u001b[0m eta \u001b[36m0:00:00\u001b[0m\n",
            "\u001b[?25h  Building wheel for standardwebhooks (pyproject.toml) ... \u001b[?25l\u001b[?25hdone\n"
          ]
        }
      ]
    },
    {
      "cell_type": "code",
      "source": [
        "print(rg.__version__)"
      ],
      "metadata": {
        "colab": {
          "base_uri": "https://localhost:8080/"
        },
        "id": "yp-szae_NsUe",
        "outputId": "bd448f34-0da1-472a-f3fc-40eed84969a4"
      },
      "execution_count": null,
      "outputs": [
        {
          "output_type": "stream",
          "name": "stdout",
          "text": [
            "2.7.0\n"
          ]
        }
      ]
    },
    {
      "cell_type": "code",
      "source": [
        "from argilla import client"
      ],
      "metadata": {
        "id": "Tt57zsQsQjH2"
      },
      "execution_count": null,
      "outputs": []
    },
    {
      "cell_type": "code",
      "source": [
        "!huggingface-cli login"
      ],
      "metadata": {
        "colab": {
          "base_uri": "https://localhost:8080/"
        },
        "collapsed": true,
        "id": "LyVvf-KpeBsO",
        "outputId": "442f0411-fd78-46a3-9f32-c87688748710"
      },
      "execution_count": null,
      "outputs": [
        {
          "output_type": "stream",
          "name": "stdout",
          "text": [
            "\n",
            "    _|    _|  _|    _|    _|_|_|    _|_|_|  _|_|_|  _|      _|    _|_|_|      _|_|_|_|    _|_|      _|_|_|  _|_|_|_|\n",
            "    _|    _|  _|    _|  _|        _|          _|    _|_|    _|  _|            _|        _|    _|  _|        _|\n",
            "    _|_|_|_|  _|    _|  _|  _|_|  _|  _|_|    _|    _|  _|  _|  _|  _|_|      _|_|_|    _|_|_|_|  _|        _|_|_|\n",
            "    _|    _|  _|    _|  _|    _|  _|    _|    _|    _|    _|_|  _|    _|      _|        _|    _|  _|        _|\n",
            "    _|    _|    _|_|      _|_|_|    _|_|_|  _|_|_|  _|      _|    _|_|_|      _|        _|    _|    _|_|_|  _|_|_|_|\n",
            "\n",
            "    To log in, `huggingface_hub` requires a token generated from https://huggingface.co/settings/tokens .\n",
            "Enter your token (input will not be visible): \n",
            "Add token as git credential? (Y/n) n\n",
            "Token is valid (permission: fineGrained).\n",
            "The token `chatbot` has been saved to /root/.cache/huggingface/stored_tokens\n",
            "Your token has been saved to /root/.cache/huggingface/token\n",
            "Login successful.\n",
            "The current active token is: `chatbot`\n"
          ]
        }
      ]
    },
    {
      "cell_type": "code",
      "source": [
        "import requests\n",
        "from bs4 import BeautifulSoup\n",
        "import pandas as pd\n",
        "import argilla as rg  # Argilla library for logging/annotating data\n",
        "import logging\n",
        "\n",
        "logging.basicConfig(level=logging.INFO)\n",
        "logger = logging.getLogger(__name__)\n",
        "\n",
        "def fetch_website_data(url):\n",
        "    headers = {\n",
        "        \"User-Agent\": (\"Mozilla/5.0 (Windows NT 10.0; Win64; x64) \"\n",
        "                       \"AppleWebKit/537.36 (KHTML, like Gecko) \"\n",
        "                       \"Chrome/91.0.4472.124 Safari/537.36\")\n",
        "    }\n",
        "    try:\n",
        "        url_clean = url.strip()\n",
        "        logger.info(f\"Fetching URL: {url_clean}\")\n",
        "        response = requests.get(url_clean, headers=headers, timeout=10)\n",
        "        response.raise_for_status()\n",
        "        soup = BeautifulSoup(response.content, \"html.parser\")\n",
        "        title = soup.title.string.strip() if soup.title and soup.title.string else \"No Title\"\n",
        "        description_tag = soup.find(\"meta\", attrs={\"name\": \"description\"})\n",
        "        description = (description_tag[\"content\"].strip()\n",
        "                       if description_tag and description_tag.get(\"content\")\n",
        "                       else \"No Description\")\n",
        "        content = soup.get_text(separator=\" \", strip=True)\n",
        "        return {\n",
        "            \"Website\": url_clean,\n",
        "            \"Title\": title,\n",
        "            \"Content\": content,\n",
        "            \"Metadata\": description\n",
        "        }\n",
        "    except Exception as e:\n",
        "        logger.error(f\"Error for {url}: {e}\")\n",
        "        return {\"Website\": url.strip(), \"Title\": None, \"Content\": None, \"Metadata\": None}\n",
        "\n",
        "def main():\n",
        "    urls = [\n",
        "        \"https://www.fiscozen.it/guide/partita-iva-a-cosa-serve/\",\n",
        "        \"https://www.agenziaentrate.gov.it/portale/iva-regole-generali-aliquote-esenzioni-pagamento/infogen-iva-regole-generali-aliquote-esenzioni-pagamento\"\n",
        "    ]\n",
        "    data_records = [fetch_website_data(url) for url in urls]\n",
        "    dataset_name = \"web_data_collection\"\n",
        "\n",
        "    try:\n",
        "        # Initialize the Argilla client\n",
        "        client = rg.Argilla(\n",
        "            api_url=\"https://glopops-argilla-space.hf.space\",\n",
        "            api_key=\"ai4f9sThzZtTo5RZCCqwEzSNyv_2Jwp6N4HMLWhWlSbN5fsUcFD-P-c9cCPRUZwqKOB0aaXkY8WE4xsQUWtqx7_ztt5qMXf_dLifZR8rKu4\"  # Replace with your actual API key\n",
        "        )\n",
        "\n",
        "        # Define dataset settings\n",
        "        settings = rg.Settings(\n",
        "            fields=[\n",
        "                rg.TextField(name=\"Website\"),\n",
        "                rg.TextField(name=\"Title\"),\n",
        "                rg.TextField(name=\"Content\"),\n",
        "                rg.TextField(name=\"Metadata\")\n",
        "            ],\n",
        "            questions=[\n",
        "                rg.TextQuestion(name=\"Annotation\", description=\"Annotate the content.\")\n",
        "            ],\n",
        "            guidelines=\"Please provide annotations for the website content.\"\n",
        "        )\n",
        "\n",
        "        # Create a new dataset\n",
        "        dataset = rg.Dataset(\n",
        "            name=dataset_name,\n",
        "            settings=settings,\n",
        "            client=client\n",
        "        )\n",
        "        dataset.create()\n",
        "        logger.info(f\"Created new dataset: {dataset_name}\")\n",
        "\n",
        "        # Prepare records\n",
        "        records = [\n",
        "            rg.Record(\n",
        "                fields={\n",
        "                    \"Website\": record[\"Website\"],\n",
        "                    \"Title\": record[\"Title\"],\n",
        "                    \"Content\": record[\"Content\"],\n",
        "                    \"Metadata\": record[\"Metadata\"]\n",
        "                }\n",
        "            ) for record in data_records\n",
        "        ]\n",
        "\n",
        "        # Log records to the dataset\n",
        "        dataset.records.log(records=records)\n",
        "        logger.info(f\"Logged {len(records)} records to dataset: {dataset_name}\")\n",
        "\n",
        "        # Load records from the dataset\n",
        "        loaded_records = list(dataset.records)\n",
        "\n",
        "        # Convert to DataFrame\n",
        "        df = pd.DataFrame([record.fields for record in loaded_records])\n",
        "        df.to_csv(\"web_data.csv\", index=False)\n",
        "        logger.info(\"Data successfully saved to web_data.csv\")\n",
        "        return df\n",
        "\n",
        "    except Exception as e:\n",
        "        logger.error(f\"An error occurred: {e}\")\n",
        "        return None\n",
        "\n",
        "if __name__ == \"__main__\":\n",
        "    data_frame = main()\n"
      ],
      "metadata": {
        "colab": {
          "base_uri": "https://localhost:8080/"
        },
        "id": "6bvwjqr8RZk7",
        "outputId": "6790cb5f-dbae-4d4e-ab91-33f7212a9088"
      },
      "execution_count": null,
      "outputs": [
        {
          "output_type": "stream",
          "name": "stderr",
          "text": [
            "ERROR:__main__:An error occurred: Argilla SDK error: ArgillaCredentialsError: Credentials (api_key and/or api_url) are invalid\n"
          ]
        }
      ]
    }
  ]
}