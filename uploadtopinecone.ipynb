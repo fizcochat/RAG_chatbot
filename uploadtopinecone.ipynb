{
 "cells": [
  {
   "cell_type": "code",
   "execution_count": 1,
   "metadata": {},
   "outputs": [],
   "source": [
    "import os\n",
    "from langchain_openai import ChatOpenAI\n",
    "from dotenv import load_dotenv\n",
    "\n",
    "load_dotenv()\n",
    "\n",
    "os.environ[\"OPENAI_API_KEY\"] = os.getenv('OPENAI_API_KEY')\n",
    "chat = ChatOpenAI(\n",
    "    openai_api_key=os.environ[\"OPENAI_API_KEY\"],\n",
    "    model='gpt-3.5-turbo'\n",
    ")"
   ]
  },
  {
   "cell_type": "code",
   "execution_count": 4,
   "metadata": {},
   "outputs": [],
   "source": [
    "from pinecone import Pinecone\n",
    "\n",
    "import re\n",
    "import pdfplumber\n",
    "import openai\n",
    "from langchain.document_loaders import PyPDFLoader\n",
    "from langchain.text_splitter import RecursiveCharacterTextSplitter\n",
    "\n",
    "\n",
    "os.environ[\"PINECONE_API_KEY\"] = os.getenv('PINECONE_API_KEY')\n",
    "\n",
    "pc = Pinecone(api_key=os.environ[\"PINECONE_API_KEY\"])\n",
    "index = pc.Index(\"ragtest\")"
   ]
  },
  {
   "cell_type": "code",
   "execution_count": 5,
   "metadata": {},
   "outputs": [],
   "source": [
    "openai.api_key = os.getenv('OPENAI_API_KEY')\n",
    "MODEL = \"text-embedding-ada-002\""
   ]
  },
  {
   "cell_type": "code",
   "execution_count": 7,
   "metadata": {},
   "outputs": [],
   "source": [
    "import re\n",
    "import pypdf\n",
    "\n",
    "# Define a function to preprocess text\n",
    "def preprocess_text(text):\n",
    "    # Replace consecutive spaces, newlines, and tabs\n",
    "    text = re.sub(r'\\s+', ' ', text)\n",
    "    return text\n",
    "\n",
    "def process_pdf(file_path):\n",
    "    # create a loader\n",
    "    loader = PyPDFLoader(file_path)\n",
    "    # load your data\n",
    "    data = loader.load()\n",
    "    # Split your data up into smaller documents with Chunks\n",
    "    text_splitter = RecursiveCharacterTextSplitter(chunk_size=1000, chunk_overlap=200)\n",
    "    documents = text_splitter.split_documents(data)\n",
    "    # Convert Document objects into strings with progress tracking\n",
    "    texts = [str(doc) for doc in documents]\n",
    "    return texts\n"
   ]
  },
  {
   "cell_type": "code",
   "execution_count": 8,
   "metadata": {},
   "outputs": [],
   "source": [
    "def create_embeddings(texts):\n",
    "    embeddings_list = []\n",
    "    for text in texts:\n",
    "        response = openai.embeddings.create(input=text, model=MODEL)\n",
    "        embedding = response.data[0].embedding  # Access the embedding correctly\n",
    "        embeddings_list.append(embedding)\n",
    "    return embeddings_list\n",
    "\n",
    "# Define a function to upsert embeddings to Pinecone with metadata\n",
    "def upsert_embeddings_to_pinecone(index, embeddings, ids, texts, batch_size=100):\n",
    "    for i in range(0, len(embeddings), batch_size):\n",
    "        batch_embeddings = embeddings[i:i + batch_size]\n",
    "        batch_ids = ids[i:i + batch_size]\n",
    "        batch_texts = texts[i:i + batch_size]\n",
    "        metadata = []\n",
    "        for id, text in zip(batch_ids, batch_texts):\n",
    "            # Extract filename from id (removing _chunk_X)\n",
    "            filename = id.split('_chunk_')[0]\n",
    "            # Get the filename without extension and split on space\n",
    "            name_parts = filename.split('.')[0].split(' ')\n",
    "            plan_type = name_parts[0] if name_parts else ''\n",
    "            plan_difficulty = name_parts[1] if len(name_parts) > 1 else ''\n",
    "            metadata.append({\n",
    "                'text': preprocess_text(text),\n",
    "                'plan_type': plan_type,\n",
    "                'plan_difficulty': plan_difficulty\n",
    "            })\n",
    "        index.upsert(vectors=[(id, embedding, meta) for id, embedding, meta in zip(batch_ids, batch_embeddings, metadata)])"
   ]
  },
  {
   "cell_type": "code",
   "execution_count": 10,
   "metadata": {},
   "outputs": [
    {
     "name": "stdout",
     "output_type": "stream",
     "text": [
      "processed text for file data_documents/Agenzia_entrate_1.pdf\n",
      "upserted embeddings for file data_documents/Agenzia_entrate_1.pdf\n",
      "processed text for file data_documents/Agenzia_entrate_2.pdf\n",
      "upserted embeddings for file data_documents/Agenzia_entrate_2.pdf\n",
      "processed text for file data_documents/Agenzia_entrate_3.pdf\n",
      "upserted embeddings for file data_documents/Agenzia_entrate_3.pdf\n",
      "processed text for file data_documents/Agenzia_entrate_4.pdf\n",
      "upserted embeddings for file data_documents/Agenzia_entrate_4.pdf\n",
      "processed text for file data_documents/Agenzia_entrate_5.pdf\n",
      "upserted embeddings for file data_documents/Agenzia_entrate_5.pdf\n",
      "processed text for file data_documents/fiscozen_web.pdf\n",
      "upserted embeddings for file data_documents/fiscozen_web.pdf\n"
     ]
    }
   ],
   "source": [
    "# Define a function to create embedding\n",
    "# Process a PDF and create embeddings\n",
    "file_paths = [\"data_documents/Agenzia_entrate_1.pdf\", \"data_documents/Agenzia_entrate_2.pdf\", \"data_documents/Agenzia_entrate_3.pdf\", \"data_documents/Agenzia_entrate_4.pdf\", \"data_documents/Agenzia_entrate_5.pdf\", \"data_documents/fiscozen_web.pdf\"]  # Replace with your actual file path\n",
    "for file_path in file_paths:\n",
    "  texts = process_pdf(file_path)\n",
    "  print(\"processed text for file\", file_path)\n",
    "  embeddings = create_embeddings(texts)\n",
    "  # Assuming that `file_path` is used as the ID for the entire document; if you want to use unique IDs for each text chunk, modify this accordingly\n",
    "  ids = [f\"{file_path}_chunk_{i}\" for i in range(len(embeddings))]\n",
    "  # Upsert the embeddings to Pinecone with text as metadata\n",
    "  upsert_embeddings_to_pinecone(index, embeddings, ids, texts)\n",
    "  print(\"upserted embeddings for file\", file_path)"
   ]
  },
  {
   "cell_type": "code",
   "execution_count": 11,
   "metadata": {},
   "outputs": [
    {
     "name": "stderr",
     "output_type": "stream",
     "text": [
      "/Users/lauracuellar/RAGchatbot/RAG_chatbot/venv-rag/lib/python3.11/site-packages/langchain_core/_api/deprecation.py:141: LangChainDeprecationWarning: The class `OpenAIEmbeddings` was deprecated in LangChain 0.0.9 and will be removed in 1.0. An updated version of the class exists in the langchain-openai package and should be used instead. To use it run `pip install -U langchain-openai` and import as `from langchain_openai import OpenAIEmbeddings`.\n",
      "  _alternative: str = alternative,\n",
      "/Users/lauracuellar/RAGchatbot/RAG_chatbot/venv-rag/lib/python3.11/site-packages/langchain_core/_api/deprecation.py:141: LangChainDeprecationWarning: The class `Pinecone` was deprecated in LangChain 0.0.18 and will be removed in 1.0. An updated version of the class exists in the langchain-pinecone package and should be used instead. To use it run `pip install -U langchain-pinecone` and import as `from langchain_pinecone import Pinecone`.\n",
      "  _alternative: str = alternative,\n"
     ]
    }
   ],
   "source": [
    "from langchain.vectorstores import Pinecone\n",
    "from langchain.embeddings import OpenAIEmbeddings\n",
    "\n",
    "text_field = \"text\"  # the metadata field that contains our text\n",
    "embed_model = OpenAIEmbeddings(model=MODEL)\n",
    "# initialize the vector store object\n",
    "vectorstore = Pinecone(\n",
    "    index, embed_model, text_field,\n",
    ")"
   ]
  },
  {
   "cell_type": "code",
   "execution_count": 14,
   "metadata": {},
   "outputs": [
    {
     "name": "stdout",
     "output_type": "stream",
     "text": [
      "[Document(metadata={'plan_difficulty': '', 'plan_type': 'data_documents/fiscozen_web'}, page_content=\"page_content='Partita IVA: cos’è e chi può averla? La Partita IVA è un codice di 11 cifre che ti identifica in modo univoco come lavoratore autonomo negli archivi dell’agenzia delle entrate Aprendo la Partita IVA potrai farti pagare e acquisirai i diritti e i doveri, come l’obbligo di versare le tasse e la possibilità di versare i contributi che riavrai indietro sotto forma di pensione. I requisiti fondamentali per aprire la Partita IVA sono 4 Il primo è che devi essere maggiorenne oppure aver ricevuto l’emancipazione dal tribunale, se sei minorenne. Il secondo requisito prevede che tu sia in possesso delle tue facoltà mentali, ovvero devi essere capace di intendere e volere. Il terzo è che tu sia residente in Italia. Se sei stato processato per un reato puoi aprire la Partita IVA solo dopo 5 anni dalla fine della condanna definitiva e solo dopo aver ricevuto la riabilitazione dal giudice. Se hai anche un lavoro dipendente, puoi avere la Partita IVA solo se rispetti alcuni requisiti' metadata={'producer': 'Skia/PDF m133', 'creator': 'Mozilla/5.0 (Macintosh; Intel Mac OS X 10_15_7) AppleWebKit/537.36 (KHTML, like Gecko) Chrome/133.0.0.0 Safari/537.36', 'creationdate': '2025-02-20T16:43:44+00:00', 'title': 'PARTITA IVA: cos’è, COME funziona e quanto COSTA?', 'moddate': '2025-02-20T16:43:44+00:00', 'source': 'data_documents/fiscozen_web.pdf', 'total_pages': 11, 'page': 2, 'page_label': '3'}\"), Document(metadata={'plan_difficulty': '', 'plan_type': 'data_documents/fiscozen_web'}, page_content=\"page_content='revisori contabili lavoratori che partecipano a commissioni tributarie collaboratori editoriali, ovvero lavoratori che collaborano ad esempio con testate giornalistiche e enciclopedie Possiamo dirti gratuitamente se hai i requisiti per aprire la tua Partita IVA Un consulente fiscale può studiare la tua situazione nello specifico, analizzando anche il tuo contratto di lavoro dipendente e il tuo casellario giudiziale, e dirti se puoi aprire la Partita IVA. 2/20/25, 5:43 PM PARTITA IVA: cos’è, COME funziona e quanto COSTA? https://www.ﬁscozen.it/guide/partita-iva-a-cosa-serve/#form-footer 3/13' metadata={'producer': 'Skia/PDF m133', 'creator': 'Mozilla/5.0 (Macintosh; Intel Mac OS X 10_15_7) AppleWebKit/537.36 (KHTML, like Gecko) Chrome/133.0.0.0 Safari/537.36', 'creationdate': '2025-02-20T16:43:44+00:00', 'title': 'PARTITA IVA: cos’è, COME funziona e quanto COSTA?', 'moddate': '2025-02-20T16:43:44+00:00', 'source': 'data_documents/fiscozen_web.pdf', 'total_pages': 11, 'page': 2, 'page_label': '3'}\"), Document(metadata={'plan_difficulty': '', 'plan_type': 'data_documents/fiscozen_web'}, page_content=\"page_content='Partita IVA: cos’è, come funziona e quanto costa? Leggi l'articolo o risolvi ogni dubbio con una consulenza su misura per te, gratis e senza impegno Compila qui per riceverla. Continua Email* Eccellente Guida verificata Scritta da un’esperta fiscale Francesca Ciani Basata su una fonte ufficiale Agenzia delle Entrate In breve Se sei interessato ad avviare un’attività autonoma, ti interesserà conoscere qualcosa in più sulla Partita IVA. Qui sotto trovi un riassunto di tutte le informazioni ma, se preferisci andare nel dettaglio, puoi leggere ogni capitolo scorrendo in basso. Sapere cos’è, come funziona e quanto costa, ti assicurerà di svolgere la tua attività in modo tranquillo e preparato. Contattaci 2/20/25, 5:43 PM PARTITA IVA: cos’è, COME funziona e quanto COSTA? https://www.ﬁscozen.it/guide/partita-iva-a-cosa-serve/#form-footer 1/13' metadata={'producer': 'Skia/PDF m133', 'creator': 'Mozilla/5.0 (Macintosh; Intel Mac OS X 10_15_7) AppleWebKit/537.36 (KHTML, like Gecko) Chrome/133.0.0.0 Safari/537.36', 'creationdate': '2025-02-20T16:43:44+00:00', 'title': 'PARTITA IVA: cos’è, COME funziona e quanto COSTA?', 'moddate': '2025-02-20T16:43:44+00:00', 'source': 'data_documents/fiscozen_web.pdf', 'total_pages': 11, 'page': 0, 'page_label': '1'}\"), Document(metadata={'plan_difficulty': '', 'plan_type': 'data_documents/Agenzia_entrate_4'}, page_content='page_content=\\'Per maggior informazioni consultare la sezione Liquidazioni periodiche Iva . Questa pagina fa parte del portale Your Europe della Commissione europea. Hai trovato quello che cercavi? Aiutaci a migliorare \\uf0c1 Link correlati Vat in Italy – English version 2/20/25, 5:41 PM Schede - Come pagare l\\'Iva - Agenzia delle Entrate https://www.agenziaentrate.gov.it/portale/come-pagare-l-iva 2/2\\' metadata={\\'producer\\': \\'Skia/PDF m133\\', \\'creator\\': \\'Mozilla/5.0 (Macintosh; Intel Mac OS X 10_15_7) AppleWebKit/537.36 (KHTML, like Gecko) Chrome/133.0.0.0 Safari/537.36\\', \\'creationdate\\': \\'2025-02-20T16:41:11+00:00\\', \\'title\\': \"Schede - Come pagare l\\'Iva - Agenzia delle Entrate\", \\'moddate\\': \\'2025-02-20T16:41:11+00:00\\', \\'source\\': \\'data_documents/Agenzia_entrate_4.pdf\\', \\'total_pages\\': 2, \\'page\\': 1, \\'page_label\\': \\'2\\'}'), Document(metadata={'plan_difficulty': '', 'plan_type': 'data_documents/fiscozen_web'}, page_content=\"page_content='Aprire la Partita IVA ed avviare la propria attività autonoma è un passo importante nella vita di un professionista. Il commercialista è il professionista che può guidarti passo passo per chiarirti le idee e scegliere la strada giusta per te. Puoi ricevere una consulenza fiscale gratuita e senza impegno compilando il form in cima alla pagina. La Partita IVA è un codice di 11 cifre Ha la funzione di identificarti in modo univoco come lavoratore autonomo negli archivi dell’agenzia delle entrate. Aprendo la Partita IVA renderai ufficiale la tua attività In questo modo potrai farti pagare e acquisirai i diritti e i doveri, come l’obbligo di versare le tasse e la possibilità di versare i contributi che riavrai indietro sotto forma di pensione. Il costo della Partita IVA va da 0€ a circa il 40% del tuo guadagno Ad esempio se sei un libero professionista che si gestisce da solo e hai fatturato zero per un anno pagherai zero, mentre se hai un e-commerce e fatturi 300.000€ pagherai di' metadata={'producer': 'Skia/PDF m133', 'creator': 'Mozilla/5.0 (Macintosh; Intel Mac OS X 10_15_7) AppleWebKit/537.36 (KHTML, like Gecko) Chrome/133.0.0.0 Safari/537.36', 'creationdate': '2025-02-20T16:43:44+00:00', 'title': 'PARTITA IVA: cos’è, COME funziona e quanto COSTA?', 'moddate': '2025-02-20T16:43:44+00:00', 'source': 'data_documents/fiscozen_web.pdf', 'total_pages': 11, 'page': 1, 'page_label': '2'}\")]\n"
     ]
    }
   ],
   "source": [
    "from langchain_openai import OpenAIEmbeddings\n",
    "import openai\n",
    "from pinecone import Pinecone\n",
    "from langchain_pinecone import PineconeVectorStore\n",
    "# Set OpenAI API key\n",
    "openai.api_key = os.environ[\"OPENAI_API_KEY\"]\n",
    "\n",
    "# Initialize OpenAI Embeddings model\n",
    "model = OpenAIEmbeddings(model=\"text-embedding-ada-002\",openai_api_key=openai.api_key)\n",
    "\n",
    " # Initialize Pinecone with API key\n",
    "pc = Pinecone(api_key=os.environ[\"PINECONE_API_KEY\"])\n",
    "index = pc.Index(\"ragtest\")\n",
    "\n",
    "# Set up Pinecone VectorStore\n",
    "vectorstore = PineconeVectorStore(index, model, \"text\")\n",
    "\n",
    "# Initialize OpenAI client\n",
    "client = openai.OpenAI()\n",
    "\n",
    "\n",
    "query = \"What is the IVA?\"\n",
    "\n",
    "result = vectorstore.similarity_search(query, k=5)\n",
    "\n",
    "print(result)\n"
   ]
  }
 ],
 "metadata": {
  "kernelspec": {
   "display_name": "venv-rag",
   "language": "python",
   "name": "python3"
  },
  "language_info": {
   "codemirror_mode": {
    "name": "ipython",
    "version": 3
   },
   "file_extension": ".py",
   "mimetype": "text/x-python",
   "name": "python",
   "nbconvert_exporter": "python",
   "pygments_lexer": "ipython3",
   "version": "3.11.1"
  }
 },
 "nbformat": 4,
 "nbformat_minor": 2
}
